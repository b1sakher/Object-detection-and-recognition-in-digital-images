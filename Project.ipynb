{
 "cells": [
  {
   "cell_type": "code",
   "execution_count": 1,
   "metadata": {
    "collapsed": false
   },
   "outputs": [
    {
     "name": "stdout",
     "output_type": "stream",
     "text": [
      "('Number of items: ', 10, '\\nMax weight= ', 250)\n"
     ]
    }
   ],
   "source": [
    "#This code is written by Sakher BELOUADAH\n",
    "\n",
    "import operator\n",
    "    \n",
    "def bruteForce():\n",
    "    #Compexity O(n*2^n) because we generate all possibles vectors, and loop n times each time\n",
    "    A=[0]*itemsNumber\n",
    "    bestValue=0\n",
    "    for i in range(2**itemsNumber-1):\n",
    "        j=itemsNumber-1\n",
    "        tempWeight=0\n",
    "        tempValue=0\n",
    "        #to empty the vector A (not all of it) and start  again\n",
    "        while (A[j]!=0 and j>0):\n",
    "            A[j]=0\n",
    "            j-=1\n",
    "        A[j]=1\n",
    "        for k in range(itemsNumber):\n",
    "            if(A[k]==1):\n",
    "                tempWeight=tempWeight+Weights[k]\n",
    "                tempValue=tempValue+Values[k]\n",
    "        if((tempValue>bestValue) and (tempWeight<=maxWeight)):\n",
    "            bestValue=tempValue\n",
    "            bestWeight=tempWeight\n",
    "            bestChoice=A[:]\n",
    "    \n",
    "    print (\"########Brute Force :\")\n",
    "    print ('Solution, Optimal benefit, Optimal weight')\n",
    "    return (bestChoice,bestValue,bestWeight)\n",
    "\n",
    "\n",
    "def dynamic():\n",
    "    #in this part we need to devide our problem into smaller problems,\n",
    "    #try to solve each subset, and the combine the solutions to find the optimal solution\n",
    "    #We start by creating the matrix\n",
    "    A = [[0 for k in range(0,maxWeight)] for l in range(0,itemsNumber)]\n",
    "    for i in range(itemsNumber):\n",
    "        for j in range(maxWeight):\n",
    "            if j<Weights[i]:\n",
    "                #Then the previous one is better\n",
    "                A[i][j]=A[i-1][j]\n",
    "            else:\n",
    "                #we need to check with the previous one\n",
    "                A[i][j]=max(A[i-1][j],Values[i]+A[i-1][j-Weights[i]])\n",
    "    \n",
    "    print (\"########Dynamic :\")\n",
    "    print (\"Best Value= \",A[itemsNumber-1][maxWeight-1])\n",
    "    return A[itemsNumber-1][maxWeight-1]\n",
    "\n",
    "\n",
    "def greedy():\n",
    "    bestValue=0             #it will contain the best value for the knapsack\n",
    "    ratioArray=[]           #an array of value/weight for each item\n",
    "    A=[0]*itemsNumber       #the solution array (1:selected item)\n",
    "    currentWeight=0\n",
    "    for i in range(itemsNumber):\n",
    "        nextWeight=currentWeight+Weights[RatioArrayIndix[i]]\n",
    "        #we first compare the next weight with the maxweight before we add\n",
    "        if(nextWeight)<=maxWeight:\n",
    "            bestValue+=Values[RatioArrayIndix[i]]\n",
    "            currentWeight+=Weights[RatioArrayIndix[i]]\n",
    "            #Marking the added item\n",
    "            A[RatioArrayIndix[i]]=1\n",
    "        else:\n",
    "            break\n",
    "            \n",
    "    \n",
    "    print (\"########Greedy :\")\n",
    "    print ('Solution, Optimal benefit, Optimal weight')\n",
    "    return (A,bestValue,currentWeight)\n",
    "\n",
    "\n",
    "    \n",
    "def upper_bound(RatioArrayIndix):\n",
    "    up=0             #it will contain the UpperBound\n",
    "    currentWeight=0\n",
    "    for i in range(len(RatioArrayIndix)):\n",
    "        nextWeight=currentWeight+Weights[RatioArrayIndix[i]]\n",
    "        #we first compare the next weight with the maxweight before we add\n",
    "        if(nextWeight)<=maxWeight:\n",
    "            up+=Values[RatioArrayIndix[i]]\n",
    "            currentWeight+=Weights[RatioArrayIndix[i]]\n",
    "        else:\n",
    "            remainingWeight=maxWeight-currentWeight\n",
    "            up+=float(Values[RatioArrayIndix[i]])/float(Weights[RatioArrayIndix[i]])*remainingWeight\n",
    "            break\n",
    "    return up       \n",
    "\n",
    "def remaining_index(RatioArrayIndix,key):\n",
    "    # for a key=R1010 and a =RatioArrayIndix[1,2,3,4,5]\n",
    "    # =remaining_list_of_index[1,3,5]\n",
    "    remaining_list_of_index=RatioArrayIndix[:]#make a copy\n",
    "    k=0\n",
    "    for i in range(len(key)):\n",
    "        if key[i]=='0':\n",
    "            remaining_list_of_index.pop(i-1-k)\n",
    "            k+=1\n",
    "    return remaining_list_of_index\n",
    "\n",
    "def basic_Branch_and_bound():\n",
    "    #Our treetake the format (key,benefit, weight) for each node\n",
    "    not_devolopped=[]\n",
    "    temp=('R',0,0)\n",
    "    not_devolopped.append(temp) #list of generated but not yet devolopped nodes\n",
    "    best_solution=temp\n",
    "    while(not_devolopped):#still got items\n",
    "        #generate childrens\n",
    "        (current_key,current_benefit,current_weight)=not_devolopped[0] #fifo\n",
    "        \n",
    "        (key,best_benefit,best_weight)=best_solution\n",
    "        if(current_benefit>best_benefit):\n",
    "            best_solution=(current_key,current_benefit,current_weight)\n",
    "        \n",
    "        i=len(current_key)-1 #index of the current item\n",
    "        #first child\n",
    "        if(i<itemsNumber): #means we still have children to generate\n",
    "            right_child_key=current_key+'0'\n",
    "            temp=(right_child_key,current_benefit,current_weight)\n",
    "            not_devolopped.append(temp)\n",
    "            #left child (if we add an item)\n",
    "            new_weight=current_weight+Weights[RatioArrayIndix[i]]\n",
    "            if(new_weight<=maxWeight):#we can add the item\n",
    "                left_child_key=current_key+'1'\n",
    "                new_benefit=current_benefit+Values[RatioArrayIndix[i]]\n",
    "                temp=(left_child_key,new_benefit,new_weight)\n",
    "                not_devolopped.append(temp)\n",
    "        #remove the developped item from the list\n",
    "        not_devolopped.pop(0)\n",
    "    print (\"############# Basic Breach And Bound\")    \n",
    "    print ('Solution, Optimal benefit, Optimal weight')\n",
    "    return best_solution\n",
    "\n",
    "def advanced_Branch_and_Bound():\n",
    "    #Our treetake the format key : (benefit, weight, ub) for each node\n",
    "    tree={}\n",
    "    initial_ub=upper_bound(RatioArrayIndix)\n",
    "    tree['R']=(0,0,initial_ub) #R is for ROOT\n",
    "    upper_bounds_list={} # key=key in the tree, value=upper_bound value\n",
    "    upper_bounds_list['R']=initial_ub\n",
    "    \n",
    "    while (True):\n",
    "        #choose max upper_bound\n",
    "        max_ub_key=max(upper_bounds_list.iteritems(), key=operator.itemgetter(1))[0]\n",
    "        (current_benefit,current_weight,current_up)=tree[max_ub_key]#we extract the previous infos\n",
    "        #if you want to print the selected nodes each time, uncomment the next instruction\n",
    "        #print (max_ub_key,current_benefit,current_weight,current_up)print (max_ub_key,current_benefit,current_weight,current_up)\n",
    "        if(len(max_ub_key)-1<itemsNumber):\n",
    "            \n",
    "            #first case, we don't choose the next one\n",
    "            #So only the ub changes, not the benefit nor the weight\n",
    "            new_temp_key=max_ub_key+'0'\n",
    "            new_temp_list=remaining_index(RatioArrayIndix,new_temp_key)\n",
    "            new_temp_up=upper_bound(new_temp_list)\n",
    "            tree[new_temp_key]=(current_benefit,current_weight,new_temp_up)\n",
    "            #we add it to the upper_bounds_list\n",
    "            upper_bounds_list[new_temp_key]=new_temp_up\n",
    "\n",
    "            #socond case, we choose the next one\n",
    "            #Ub won't change, but the benefit and the weight will\n",
    "            #we first need to check the total weight before we add\n",
    "            new_weight=current_weight+Weights[RatioArrayIndix[len(max_ub_key)-1]]\n",
    "            if(new_weight<=maxWeight):\n",
    "                #We can add this item\n",
    "                new_temp_key=max_ub_key+'1'\n",
    "                new_benefit=current_benefit+Values[RatioArrayIndix[len(max_ub_key)-1]]\n",
    "                tree[new_temp_key]=(new_benefit,new_weight,current_up)\n",
    "                #we add it to the upper_bounds_list\n",
    "                upper_bounds_list[new_temp_key]=current_up\n",
    "\n",
    "            #we delete the previous from the list\n",
    "            upper_bounds_list.pop(max_ub_key) \n",
    "        else:\n",
    "            break #solution found\n",
    "    print (\"############# Advenced Breach And Bound using The Upper-bound\\n\")    \n",
    "    print ('Solution, Optimal benefit, Optimal weight, Optimal upperbound')\n",
    "    return (max_ub_key,current_benefit,current_weight,current_up)\n",
    "\n",
    "\n",
    "##############____M_A_I_N____################\n",
    "\n",
    "file=open('project/10items-2.txt')\n",
    "text=file.read()\n",
    "lines=text.split('\\n') #lines is a list containing all the lines is the file\n",
    "itemsNumber=int(lines[0].split()[2]) #the third element represent the number of items\n",
    "maxWeight=int(lines[1].split()[2]) #the same thing\n",
    "print (\"Number of items: \",itemsNumber,\"\\nMax weight= \",maxWeight)\n",
    "### temporary, creat weights and values\n",
    "Weights=[]\n",
    "Values=[]\n",
    "#remplir les deux vecteurs à partir du fichier\n",
    "for i in range(itemsNumber):\n",
    "    elements=lines[i+2].split()\n",
    "    Weights.append(int(elements[0]))\n",
    "    Values.append(int(elements[1]))\n",
    "\n",
    "#we start by calculating and sorting the ratio array\n",
    "ratioArray=[]\n",
    "for i in range(itemsNumber):\n",
    "    ratioArray.append((float(Values[i]))/(float(Weights[i])))\n",
    "#sorting the array, descending\n",
    "sortedRatioArray=sorted(ratioArray,reverse=True)\n",
    "#we generated the correspendant keys \n",
    "RatioArrayIndix=sorted(range(len(ratioArray)), key=lambda k: ratioArray[k],reverse=True)\n",
    "\n"
   ]
  },
  {
   "cell_type": "code",
   "execution_count": 6,
   "metadata": {
    "collapsed": false
   },
   "outputs": [
    {
     "name": "stdout",
     "output_type": "stream",
     "text": [
      "100 loops, best of 3: 6.83 ms per loop\n"
     ]
    }
   ],
   "source": [
    "##Calling the function\n",
    "bruteForce()"
   ]
  },
  {
   "cell_type": "code",
   "execution_count": 2,
   "metadata": {
    "collapsed": false
   },
   "outputs": [
    {
     "name": "stdout",
     "output_type": "stream",
     "text": [
      "100 loops, best of 3: 4.14 ms per loop\n"
     ]
    }
   ],
   "source": [
    "dynamic()\n"
   ]
  },
  {
   "cell_type": "code",
   "execution_count": 3,
   "metadata": {
    "collapsed": false
   },
   "outputs": [
    {
     "name": "stdout",
     "output_type": "stream",
     "text": [
      "100000 loops, best of 3: 13.9 µs per loop\n"
     ]
    }
   ],
   "source": [
    "greedy()\n"
   ]
  },
  {
   "cell_type": "code",
   "execution_count": 4,
   "metadata": {
    "collapsed": false
   },
   "outputs": [
    {
     "name": "stdout",
     "output_type": "stream",
     "text": [
      "100 loops, best of 3: 4.89 ms per loop\n"
     ]
    }
   ],
   "source": [
    "basic_Branch_and_bound()\n"
   ]
  },
  {
   "cell_type": "code",
   "execution_count": 5,
   "metadata": {
    "collapsed": false
   },
   "outputs": [
    {
     "name": "stdout",
     "output_type": "stream",
     "text": [
      "1000 loops, best of 3: 493 µs per loop\n"
     ]
    }
   ],
   "source": [
    "advanced_Branch_and_Bound()"
   ]
  },
  {
   "cell_type": "code",
   "execution_count": null,
   "metadata": {
    "collapsed": true
   },
   "outputs": [],
   "source": []
  }
 ],
 "metadata": {
  "kernelspec": {
   "display_name": "Python 2",
   "language": "python",
   "name": "python2"
  },
  "language_info": {
   "codemirror_mode": {
    "name": "ipython",
    "version": 2
   },
   "file_extension": ".py",
   "mimetype": "text/x-python",
   "name": "python",
   "nbconvert_exporter": "python",
   "pygments_lexer": "ipython2",
   "version": "2.7.10"
  }
 },
 "nbformat": 4,
 "nbformat_minor": 0
}
